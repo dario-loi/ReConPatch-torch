{
 "cells": [
  {
   "cell_type": "markdown",
   "metadata": {},
   "source": [
    "\n",
    "<div style=\"text-align: center;\">\n",
    "    <h1>ReConPatch: anomaly detection</h1>\n",
    "    <h3>Authors:</h3>\n",
    "    <p>Dario Loi 1940849, Elena Muia 1938610, Martina Doku 1938629</p>\n",
    "\n",
    "</div>\n"
   ]
  },
  {
   "cell_type": "markdown",
   "metadata": {},
   "source": [
    "<div>\n",
    "    <h2>0 - Introduction</h2>\n",
    "    <p>This project aims to reimplement and potentially advance the ReConPatch method proposed in the paper titled  <a href=\"https://arxiv.org/pdf/2305.16713v3\">”ReConPatch:\n",
    "Anomaly Detection by Linear Modulation of Pretrained Features.”</a> This method addresses the challenge of\n",
    "anomaly detection by constructing discriminative features through a linear modulation of patch features extracted\n",
    "from pre-trained models and employs contrastive representation learning to collect and distribute features in a way\n",
    "that produces a target-oriented and easily separable representation of the data.</p>\n",
    "</div>\n"
   ]
  },
  {
   "cell_type": "code",
   "execution_count": 6,
   "metadata": {},
   "outputs": [],
   "source": [
    "import os\n",
    "from typing import Optional\n",
    "from lightning import LightningDataModule\n",
    "import torch\n",
    "from torchvision import transforms\n",
    "from torchvision.datasets import ImageFolder\n",
    "from torch.utils.data import DataLoader"
   ]
  },
  {
   "cell_type": "markdown",
   "metadata": {},
   "source": [
    "<div>\n",
    "    <h2>1.1 - Data</h2>\n",
    "    <p>In this study, we used the <a href=\"https://arxiv.org/pdf/2305.16713v3\">MVTec AD</a> dataset\n",
    "and <a href=\"https://arxiv.org/pdf/2305.16713v3\">BTAD</a> dataset for our experiments</p>\n",
    "</div>\n"
   ]
  },
  {
   "cell_type": "code",
   "execution_count": 2,
   "metadata": {},
   "outputs": [
    {
     "name": "stderr",
     "output_type": "stream",
     "text": [
      "\"wget\" non � riconosciuto come comando interno o esterno,\n",
      " un programma eseguibile o un file batch.\n"
     ]
    }
   ],
   "source": [
    "#data\n",
    "#downloaded from https://www.kaggle.com/uciml/pima-indians-diabetes-database\n",
    "#!wget https://www.mvtec.com/company/research/datasets/mvtec-ad/downloads/mvtec_anomaly_detection.tar.xz\n"
   ]
  },
  {
   "cell_type": "markdown",
   "metadata": {},
   "source": [
    "<div>\n",
    "    <h2>1.2 - Data preprocessing</h2>\n",
    "    <p>We create a unique data module to feed to the lightning module for both the datasets. The preprocessing will follow the ones specified in the sections 4.3 and 4.4 of the aforementioned paper.</p>\n",
    "</div>\n"
   ]
  },
  {
   "cell_type": "code",
   "execution_count": 26,
   "metadata": {},
   "outputs": [],
   "source": [
    "\n",
    "class MVTecDataModule(LightningDataModule):\n",
    "    def __init__(\n",
    "        self,\n",
    "        data_dir: str,\n",
    "        batch_size: int = 32,\n",
    "        num_workers: int = 4,\n",
    "        train_val_split: float = 0.8,\n",
    "        shuffle: bool = True,\n",
    "        pin_memory: bool = True,\n",
    "        image_size: int = 256,\n",
    "        normalize: Optional[transforms.Normalize] = None,\n",
    "        **kwargs,\n",
    "    ):\n",
    "        super().__init__()\n",
    "        self.data_dir = data_dir\n",
    "        self.batch_size = batch_size\n",
    "        self.num_workers = num_workers\n",
    "        self.train_val_split = train_val_split\n",
    "        self.shuffle = shuffle\n",
    "        self.pin_memory = pin_memory\n",
    "        self.image_size = image_size\n",
    "        self.normalize = normalize\n",
    "\n",
    "    def setup(self, stage=None):\n",
    "        # Define transformations\n",
    "        transform = transforms.Compose([\n",
    "            transforms.Resize((self.image_size, self.image_size)),\n",
    "            transforms.ToTensor(),\n",
    "            self.normalize if self.normalize else transforms.Lambda(lambda x: x),\n",
    "        ])\n",
    "\n",
    "        # Load dataset\n",
    "        tot_num=0\n",
    "        for subclass in [\"bottle\",\"cable\",\"capsule\",\"carpet\",\"grid\",\"hazelnut\",\"leather\",\"metal_nut\",\"pill\",\"screw\",\"tile\",\"toothbrush\",\"transistor\",\"wood\",\"zipper\"]:\n",
    "            dataset = ImageFolder(os.path.join(self.data_dir, subclass,\"train\"), transform=transform)\n",
    "            # Split dataset into train and validation sets\n",
    "            num_train = int(len(dataset) * self.train_val_split)\n",
    "            num_val = len(dataset) - num_train\n",
    "            tot_num+=len(dataset)\n",
    "            train_dataset, val_dataset = torch.utils.data.random_split(\n",
    "                dataset, [num_train, num_val])\n",
    "            #add the subclass to the dataset\n",
    "            if subclass == \"bottle\":\n",
    "                self.train_dataset = train_dataset\n",
    "                self.val_dataset = val_dataset\n",
    "            else:\n",
    "                self.train_dataset = torch.utils.data.ConcatDataset([self.train_dataset,train_dataset])\n",
    "                self.val_dataset = torch.utils.data.ConcatDataset([self.val_dataset,val_dataset])\n",
    "\n",
    "        #print the number of images in the dataset\n",
    "        print(\"number of images in train dataset\",len(self.train_dataset))\n",
    "        print(\"number of images in val dataset\",len(self.val_dataset))\n",
    "\n",
    "    def train_dataloader(self):\n",
    "        return DataLoader(\n",
    "            self.train_dataset,\n",
    "            batch_size=self.batch_size,\n",
    "            shuffle=self.shuffle,\n",
    "            num_workers=self.num_workers,\n",
    "            pin_memory=self.pin_memory,\n",
    "        )\n",
    "\n",
    "    def val_dataloader(self):\n",
    "        return DataLoader(\n",
    "            self.val_dataset,\n",
    "            batch_size=self.batch_size,\n",
    "            shuffle=False,\n",
    "            num_workers=self.num_workers,\n",
    "            pin_memory=self.pin_memory,\n",
    "        )\n",
    "\n",
    "    def test_dataloader(self):\n",
    "        # Load test dataset without shuffling\n",
    "        transform = transforms.Compose([\n",
    "            transforms.Resize((self.image_size, self.image_size)),\n",
    "            transforms.ToTensor(),\n",
    "            self.normalize if self.normalize else transforms.Lambda(lambda x: x),\n",
    "        ])\n",
    "        for subclass in [\"bottle\",\"cable\",\"capsule\",\"carpet\",\"grid\",\"hazelnut\",\"leather\",\"metal_nut\",\"pill\",\"screw\",\"tile\",\"toothbrush\",\"transistor\",\"wood\",\"zipper\"]:\n",
    "            test_dataset = ImageFolder(os.path.join(self.data_dir, subclass,\"test\"), transform=transform)\n",
    "            if subclass == \"bottle\":\n",
    "                self.test_dataset = test_dataset\n",
    "            else:\n",
    "                self.test_dataset = torch.utils.data.ConcatDataset([self.test_dataset,test_dataset])\n",
    "\n",
    "        print(\"number of images in test dataset\",len(self.test_dataset))\n",
    "        return DataLoader(\n",
    "            test_dataset,\n",
    "            batch_size=self.batch_size,\n",
    "            shuffle=False,\n",
    "            num_workers=self.num_workers,\n",
    "            pin_memory=self.pin_memory,\n",
    "        )"
   ]
  },
  {
   "cell_type": "code",
   "execution_count": 27,
   "metadata": {},
   "outputs": [
    {
     "name": "stdout",
     "output_type": "stream",
     "text": [
      "number of images in train dataset 2900\n",
      "number of images in val dataset 729\n",
      "number of images in test dataset 1725\n"
     ]
    },
    {
     "data": {
      "text/plain": [
       "<torch.utils.data.dataloader.DataLoader at 0x15c8c895d10>"
      ]
     },
     "execution_count": 27,
     "metadata": {},
     "output_type": "execute_result"
    }
   ],
   "source": [
    "data_dir=os.path.join(\"data\",\"mvtec_ad\")\n",
    "datamod=MVTecDataModule(data_dir='data',batch_size=32,num_workers=4,train_val_split=0.8,shuffle=True,pin_memory=True,image_size=256,normalize=None)\n",
    "datamod.setup()\n",
    "datamod.train_dataloader()\n",
    "datamod.val_dataloader()\n",
    "datamod.test_dataloader()"
   ]
  }
 ],
 "metadata": {
  "kernelspec": {
   "display_name": "base",
   "language": "python",
   "name": "python3"
  },
  "language_info": {
   "codemirror_mode": {
    "name": "ipython",
    "version": 3
   },
   "file_extension": ".py",
   "mimetype": "text/x-python",
   "name": "python",
   "nbconvert_exporter": "python",
   "pygments_lexer": "ipython3",
   "version": "3.11.5"
  }
 },
 "nbformat": 4,
 "nbformat_minor": 2
}
